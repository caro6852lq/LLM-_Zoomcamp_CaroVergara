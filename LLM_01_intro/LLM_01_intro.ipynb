{
 "cells": [
  {
   "cell_type": "code",
   "execution_count": 1,
   "id": "1c9499fc-ddca-46ed-8f09-789b910e44b6",
   "metadata": {},
   "outputs": [],
   "source": [
    "import openai"
   ]
  },
  {
   "cell_type": "code",
   "execution_count": 2,
   "id": "7a93ffe6-d682-4ac3-a10c-0a533c7b8c10",
   "metadata": {},
   "outputs": [],
   "source": [
    "from openai import OpenAI"
   ]
  },
  {
   "cell_type": "code",
   "execution_count": 6,
   "id": "f5348e4a-6e51-41ca-bff9-8fca27a4847a",
   "metadata": {},
   "outputs": [],
   "source": [
    "client = OpenAI(api_key='')"
   ]
  },
  {
   "cell_type": "code",
   "execution_count": 4,
   "id": "a3d2f752-a67a-4c49-932a-ead19b14b7d0",
   "metadata": {},
   "outputs": [],
   "source": [
    "import os"
   ]
  },
  {
   "cell_type": "code",
   "execution_count": 1,
   "id": "bf03ef1f-82cf-49ef-a177-576b034524cf",
   "metadata": {},
   "outputs": [],
   "source": [
    "#os.environ"
   ]
  },
  {
   "cell_type": "code",
   "execution_count": 8,
   "id": "f4ac5192-d8e3-48f4-bb3a-a053a6c750a0",
   "metadata": {},
   "outputs": [],
   "source": [
    "response = client.chat.completions.create(\n",
    "    model='gpt-4o',\n",
    "    messages=[{\"role\": \"user\", \"content\":\"is it too late to join the course?\"}]\n",
    ")"
   ]
  },
  {
   "cell_type": "code",
   "execution_count": 9,
   "id": "109280e2-ca0a-480e-b60f-18048825ac9f",
   "metadata": {},
   "outputs": [
    {
     "data": {
      "text/plain": [
       "ChatCompletion(id='chatcmpl-CKZzMjmv8fcZFilTDqu8qDT7sdPGq', choices=[Choice(finish_reason='stop', index=0, logprobs=None, message=ChatCompletionMessage(content=\"I'm sorry, I don't have information about specific courses or their deadlines. It's best to check directly with the institution or platform offering the course. They should be able to provide details on enrollment deadlines and availability.\", refusal=None, role='assistant', annotations=[], audio=None, function_call=None, tool_calls=None))], created=1759020936, model='gpt-4o-2024-08-06', object='chat.completion', service_tier='default', system_fingerprint='fp_f33640a400', usage=CompletionUsage(completion_tokens=41, prompt_tokens=16, total_tokens=57, completion_tokens_details=CompletionTokensDetails(accepted_prediction_tokens=0, audio_tokens=0, reasoning_tokens=0, rejected_prediction_tokens=0), prompt_tokens_details=PromptTokensDetails(audio_tokens=0, cached_tokens=0)))"
      ]
     },
     "execution_count": 9,
     "metadata": {},
     "output_type": "execute_result"
    }
   ],
   "source": [
    "response"
   ]
  },
  {
   "cell_type": "code",
   "execution_count": 10,
   "id": "377b9464-ba1f-4975-a859-d2a8ca7489b6",
   "metadata": {},
   "outputs": [
    {
     "data": {
      "text/plain": [
       "\"I'm sorry, I don't have information about specific courses or their deadlines. It's best to check directly with the institution or platform offering the course. They should be able to provide details on enrollment deadlines and availability.\""
      ]
     },
     "execution_count": 10,
     "metadata": {},
     "output_type": "execute_result"
    }
   ],
   "source": [
    "response.choices[0].message.content"
   ]
  },
  {
   "cell_type": "code",
   "execution_count": null,
   "id": "f983b603-f8dc-42d0-b818-77c18b24a26b",
   "metadata": {},
   "outputs": [],
   "source": []
  }
 ],
 "metadata": {
  "kernelspec": {
   "display_name": "Python 3 (ipykernel)",
   "language": "python",
   "name": "python3"
  },
  "language_info": {
   "codemirror_mode": {
    "name": "ipython",
    "version": 3
   },
   "file_extension": ".py",
   "mimetype": "text/x-python",
   "name": "python",
   "nbconvert_exporter": "python",
   "pygments_lexer": "ipython3",
   "version": "3.12.1"
  }
 },
 "nbformat": 4,
 "nbformat_minor": 5
}
